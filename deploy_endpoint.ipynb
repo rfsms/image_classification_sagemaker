{
 "cells": [
  {
   "cell_type": "code",
   "execution_count": 39,
   "metadata": {},
   "outputs": [],
   "source": [
    "from sagemaker.pytorch.model import PyTorchModel\n",
    "from sagemaker import get_execution_role"
   ]
  },
  {
   "cell_type": "code",
   "execution_count": 40,
   "metadata": {},
   "outputs": [],
   "source": [
    "role = get_execution_role()"
   ]
  },
  {
   "cell_type": "code",
   "execution_count": 41,
   "metadata": {},
   "outputs": [],
   "source": [
    "model_path = 's3://rfims-prototype/deploy/model.tar.gz'\n",
    "\n",
    "inference_path = 'inference.py'\n",
    "pytorch_model = PyTorchModel(model_data=model_path ,py_version=\"py3\", role=role, entry_point=inference_path, framework_version='1.3.1')\n"
   ]
  },
  {
   "cell_type": "code",
   "execution_count": 42,
   "metadata": {},
   "outputs": [],
   "source": [
    "from sagemaker.serializers import JSONSerializer\n",
    "from sagemaker.deserializers import JSONDeserializer"
   ]
  },
  {
   "cell_type": "code",
   "execution_count": 44,
   "metadata": {},
   "outputs": [
    {
     "name": "stdout",
     "output_type": "stream",
     "text": [
      "-------!"
     ]
    }
   ],
   "source": [
    "\n",
    "# instance_type = \"local\"\n",
    "    \n",
    "instance_type = 'ml.t2.medium'\n",
    "# instance_type = 'ml.p2.xlarge'\n",
    "# instance_type = 'ml.m5.xlarge'\n",
    "endpoint_name = 'rfims-prototype-'+instance_type.replace(\".\",\"-\")\n",
    "\n",
    "predictor = pytorch_model.deploy(endpoint_name=endpoint_name,instance_type=instance_type, \n",
    "                    initial_instance_count=1,serializer=JSONSerializer(),deserializer=JSONDeserializer())"
   ]
  }
 ],
 "metadata": {
  "kernelspec": {
   "display_name": "Python 3 (ipykernel)",
   "language": "python",
   "name": "python3"
  },
  "language_info": {
   "codemirror_mode": {
    "name": "ipython",
    "version": 3
   },
   "file_extension": ".py",
   "mimetype": "text/x-python",
   "name": "python",
   "nbconvert_exporter": "python",
   "pygments_lexer": "ipython3",
   "version": "3.11.5"
  }
 },
 "nbformat": 4,
 "nbformat_minor": 1
}
